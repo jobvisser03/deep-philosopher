{
 "cells": [
  {
   "cell_type": "code",
   "execution_count": 1,
   "metadata": {},
   "outputs": [],
   "source": [
    "from IPython import get_ipython"
   ]
  },
  {
   "cell_type": "code",
   "execution_count": 3,
   "metadata": {},
   "outputs": [],
   "source": [
    "get_ipython().run_line_magic('reload_ext', 'autoreload')\n",
    "get_ipython().run_line_magic('autoreload', '2')\n",
    "get_ipython().run_line_magic('matplotlib', 'inline')\n",
    "\n"
   ]
  },
  {
   "cell_type": "code",
   "execution_count": 4,
   "metadata": {},
   "outputs": [],
   "source": [
    "from fastai.text import *\n",
    "import ebooklib\n",
    "from ebooklib import epub\n",
    "from bs4 import BeautifulSoup\n",
    "\n",
    "book = epub.read_epub('data/descartes1641.epub')"
   ]
  },
  {
   "cell_type": "code",
   "execution_count": 5,
   "metadata": {},
   "outputs": [
    {
     "data": {
      "text/html": [
       "<div>\n",
       "<style scoped>\n",
       "    .dataframe tbody tr th:only-of-type {\n",
       "        vertical-align: middle;\n",
       "    }\n",
       "\n",
       "    .dataframe tbody tr th {\n",
       "        vertical-align: top;\n",
       "    }\n",
       "\n",
       "    .dataframe thead th {\n",
       "        text-align: right;\n",
       "    }\n",
       "</style>\n",
       "<table border=\"1\" class=\"dataframe\">\n",
       "  <thead>\n",
       "    <tr style=\"text-align: right;\">\n",
       "      <th></th>\n",
       "      <th>text</th>\n",
       "    </tr>\n",
       "  </thead>\n",
       "  <tbody>\n",
       "    <tr>\n",
       "      <th>0</th>\n",
       "      <td>[Brackets] enclose editorial explanations. Sma...</td>\n",
       "    </tr>\n",
       "    <tr>\n",
       "      <th>1</th>\n",
       "      <td>In his title for this work, Descartes is follo...</td>\n",
       "    </tr>\n",
       "    <tr>\n",
       "      <th>2</th>\n",
       "      <td>Some years ago I was struck by how many false ...</td>\n",
       "    </tr>\n",
       "    <tr>\n",
       "      <th>3</th>\n",
       "      <td>I can do this without showing that all my beli...</td>\n",
       "    </tr>\n",
       "    <tr>\n",
       "      <th>4</th>\n",
       "      <td>Whatever I have accepted until now as most tru...</td>\n",
       "    </tr>\n",
       "  </tbody>\n",
       "</table>\n",
       "</div>"
      ],
      "text/plain": [
       "                                                text\n",
       "0  [Brackets] enclose editorial explanations. Sma...\n",
       "1  In his title for this work, Descartes is follo...\n",
       "2  Some years ago I was struck by how many false ...\n",
       "3  I can do this without showing that all my beli...\n",
       "4  Whatever I have accepted until now as most tru..."
      ]
     },
     "execution_count": 5,
     "metadata": {},
     "output_type": "execute_result"
    }
   ],
   "source": [
    "all_par = []\n",
    "\n",
    "for doc in book.get_items_of_type(ebooklib.ITEM_DOCUMENT):\n",
    "    if doc.is_chapter():\n",
    "        chap_raw = doc.get_content()\n",
    "        soup = BeautifulSoup(chap_raw)\n",
    "        for par in soup.find_all('p', text=False, recursive=True):\n",
    "            # filter out paragraphs with less then 50 characters\n",
    "            if len(par.text) > 50:     \n",
    "                try:\n",
    "                    all_par = all_par + [par.text]\n",
    "                except:\n",
    "                    print(f'Not parsable: {par}')\n",
    "    \n",
    "df_texts = pd.DataFrame(all_par[1::], columns=['text'])\n",
    "df_texts.shape[0]\n",
    "df_texts.head()\n"
   ]
  },
  {
   "cell_type": "code",
   "execution_count": 6,
   "metadata": {},
   "outputs": [
    {
     "data": {
      "text/plain": [
       "'In his title for this work, Descartes is following a tradition (started by Aristotle) which uses ‘first philosophy’ as a label for metaphysics.'"
      ]
     },
     "execution_count": 6,
     "metadata": {},
     "output_type": "execute_result"
    }
   ],
   "source": [
    "df_texts['text'][1]\n",
    "\n"
   ]
  },
  {
   "cell_type": "code",
   "execution_count": 7,
   "metadata": {},
   "outputs": [
    {
     "name": "stderr",
     "output_type": "stream",
     "text": [
      "/Users/jobvisser/Library/Caches/pypoetry/virtualenvs/deep-philosopher-UfGILhcu-py3.7/lib/python3.7/site-packages/fastai/data_block.py:217: UserWarning: `random_split_by_pct` is deprecated, please use `split_by_rand_pct`.\n",
      "  warn(\"`random_split_by_pct` is deprecated, please use `split_by_rand_pct`.\")\n"
     ]
    },
    {
     "data": {
      "text/html": [],
      "text/plain": [
       "<IPython.core.display.HTML object>"
      ]
     },
     "metadata": {},
     "output_type": "display_data"
    },
    {
     "data": {
      "text/html": [],
      "text/plain": [
       "<IPython.core.display.HTML object>"
      ]
     },
     "metadata": {},
     "output_type": "display_data"
    }
   ],
   "source": [
    "# Language model\n",
    "bs = 48\n",
    "# stor_path = Path('/storage/deep-philosopher/')\n",
    "stor_path = Path('/Users/jobvisser/repos/deep-philosopher/')\n",
    "data_lm = (TextList.from_df(df_texts, stor_path, cols=['text'])\n",
    "            .random_split_by_pct(.1)\n",
    "            .label_for_lm()\n",
    "            .databunch(bs=bs))"
   ]
  },
  {
   "cell_type": "code",
   "execution_count": 12,
   "metadata": {},
   "outputs": [
    {
     "data": {
      "text/plain": [
       "TextLMDataBunch;\n",
       "\n",
       "Train: LabelList (149 items)\n",
       "x: LMTextList\n",
       "xxbos [ xxmaj xxunk ] enclose xxunk xxunk . xxmaj small · xxunk · enclose xxunk that has been added , but can be xxunk as though it were part of the original xxunk . xxmaj xxunk xxunk , and also xxunk of xxunk that are not xxunk , are xxunk as xxunk to xxunk the structure of a xxunk or a thought . xxmaj every four - point xxunk . . . . xxunk the xxunk of a xxunk xxunk that seems to present more difficulty than it is xxunk .,xxbos xxmaj in his xxunk for this work , xxmaj descartes is following a xxunk ( started by xxmaj xxunk ) which uses ‘ first xxunk ’ as a xxunk for xxunk .,xxbos xxmaj some xxunk ago i was xxunk by how many false things i had believed , and by how doubtful was the structure of beliefs that i had based on them . i realized that if i wanted to xxunk anything in the xxunk that was xxunk and likely to last , i needed — just once in my life — to xxunk everything completely and start again from the xxunk . xxmaj it looked like an xxunk xxunk , and i xxunk to xxunk until i was old enough to be sure that there was nothing to be xxunk from xxunk it off any longer . i have now xxunk it for so long that i have no xxunk for going on xxunk to do it rather than xxunk to work . xxmaj so today i have set all my xxunk xxunk and xxunk for myself a clear xxunk of free time . i am here quite alone , and at last i will xxunk myself , xxunk and without xxunk back , to xxunk my opinions .,xxbos i can do this without xxunk that all my beliefs are false , which is xxunk more than i could ever xxunk . xxmaj my reason tells me that as well as xxunk assent from propositions that are obviously xxunk , i should also withhold it from ones that are xxunk completely certain and indubitable . xxmaj so all i need , for the xxunk of xxunk all my opinions , is to find in each of them at least some reason for doubt . i can do this without going through them one by one , which would take xxunk : once the xxunk of a xxunk have been undermined , the rest xxunk of its own xxunk ; so i will go straight for the xxunk principles on which all my former beliefs xxunk .,xxbos xxmaj whatever i have xxunk until now as most true has come to me through my senses . xxmaj but xxunk i have found that they have deceived me , and it is xxunk to xxunk completely those who have deceived us even once .\n",
       "y: LMLabelList\n",
       ",,,,\n",
       "Path: /Users/jobvisser/repos/deep-philosopher;\n",
       "\n",
       "Valid: LabelList (16 items)\n",
       "x: LMTextList\n",
       "xxbos xxmaj that ca n’t be right , because xxmaj god ’s xxunk — that is , the xxunk or xxunk of all his attributes — is one of the most xxunk of the perfections that i understand him to have . xxmaj the idea of his perfections as xxunk in a single substance could n’t have been xxunk in me by any cause that did n’t also xxunk me with the ideas of the perfections themselves ; for no cause could have made me understand that the perfections are xxunk without at the same time xxunk me what they are .,xxbos •that in a body that is xxunk or xxunk there is the same taste that i experience , and so on ;,xxbos xxmaj it might be thought that · this is wrong , because · my xxunk of the xxunk is xxunk at merely by xxunk the xxunk , just as my xxunk of xxunk and xxunk are xxunk at by xxunk xxunk and xxunk . · xxmaj that would be a xxunk , however · . i clearly understand that there is more reality in an infinite substance than in a finite one , and xxunk that my perception of the infinite , xxunk xxmaj god , is in some way xxunk to my perception of the finite , xxunk myself . xxmaj whenever i know that i doubt something or want something , i understand that i lack something and am therefore not wholly perfect . xxmaj how could i grasp this unless i had an idea of a more perfect being that xxunk me to recognize my own xxunk by xxunk ?,xxbos xxmaj but all this [ that is , the whole of the xxunk xxunk ] is impossible · for three reasons · . xxunk , though it is true that my knowledge is xxunk , and that i have many xxunk that are not yet actual , this is all quite xxunk to the idea of xxmaj god , which contains xxunk nothing that is xxunk . xxmaj indeed , this xxunk xxunk in knowledge is itself the xxunk xxunk of xxunk , · because if i am xxunk more , that shows that there are things i do n’t know , and that is an xxunk in me · . xxunk is more , even if my knowledge increases for ever , it will never actually be infinite , since it will never reach the point where it is n’t capable of a further xxunk ; xxmaj god , on the other hand , i take to be actually infinite , so that nothing can be added to his perfection . xxunk , xxunk , strictly speaking xxunk being is nothing ; what it takes to cause the representative being of an idea is actual being .,xxbos xxmaj at first sight , this xxunk like a xxunk . xxmaj where things other than xxmaj god are xxunk , i have been xxunk to distinguish a thing ’s existence from its essence . · xxmaj the question ‘ xxmaj what is the essence of triangles ( or xxunk or xxunk ) ? ’ xxunk what it takes for something to xxunk as a triangle ( or xxunk or xxunk ) . xxmaj xxunk this still xxunk open the existence question , which xxunk whether there are any triangles ( or xxunk or xxunk ) · . i can easily believe that in the case of xxmaj god , also , existence can be separated from essence , · xxunk us answer the xxunk question about xxmaj god while xxunk the xxunk question open · , so that xxmaj god can be thought of as not existing . xxmaj but on more careful xxunk it xxunk quite evident that , just as having - internal - angles - equal - xxunk xxunk ca n’t be separated from the idea · or essence · of a triangle , and as the idea of xxunk ca n’t be separated from the idea of xxunk , so existence ca n’t be separated from the essence of xxmaj god . xxmaj just as it is self - xxunk to think of xxunk in a world where there are no xxunk , so it is self - xxunk to think of xxmaj god as not existing — that is , to think of a supremely perfect being as xxunk a perfection , namely the perfection of existence . [ xxmaj what xxmaj descartes xxunk is usually xxunk as ‘ xxunk in a world where there are no xxunk ’ , but that is obviously not self - xxunk . xxmaj the xxmaj xxunk provides no xxunk from this , but xxmaj descartes may have been thinking in xxmaj xxunk , in which xxunk can mean ‘ xxunk ’ in our sense but can be used to xxunk to xxunk , the xxunk xxunk of a xxunk , or the xxunk immediately xxunk the xxunk . xxmaj so ‘ xxunk ’ xxunk ‘ xxunk ’ has been xxunk as a xxunk : xxunk and xxunk xxunk to what he xxunk xxunk . ]\n",
       "y: LMLabelList\n",
       ",,,,\n",
       "Path: /Users/jobvisser/repos/deep-philosopher;\n",
       "\n",
       "Test: None"
      ]
     },
     "execution_count": 12,
     "metadata": {},
     "output_type": "execute_result"
    }
   ],
   "source": [
    "data_lm.save()"
   ]
  },
  {
   "cell_type": "code",
   "execution_count": 8,
   "metadata": {},
   "outputs": [],
   "source": [
    "data_lm.save(stor_path / 'data_lm')"
   ]
  },
  {
   "cell_type": "code",
   "execution_count": 48,
   "metadata": {},
   "outputs": [
    {
     "name": "stdout",
     "output_type": "stream",
     "text": [
      "Help on method save in module fastai.basic_data:\n",
      "\n",
      "save(file: Union[pathlib.Path, str, _io.BufferedWriter, _io.BytesIO] = 'data_save.pkl') -> None method of fastai.text.data.TextLMDataBunch instance\n",
      "    Save the `DataBunch` in `self.path/file`. `file` can be file-like (file or buffer)\n",
      "\n"
     ]
    }
   ],
   "source": [
    "help(data_lm.save)"
   ]
  },
  {
   "cell_type": "code",
   "execution_count": 9,
   "metadata": {},
   "outputs": [
    {
     "data": {
      "text/html": [
       "<table border=\"1\" class=\"dataframe\">\n",
       "  <thead>\n",
       "    <tr style=\"text-align: right;\">\n",
       "      <th>idx</th>\n",
       "      <th>text</th>\n",
       "    </tr>\n",
       "  </thead>\n",
       "  <tbody>\n",
       "    <tr>\n",
       "      <td>0</td>\n",
       "      <td>i wanted to xxunk anything in the xxunk that was xxunk and likely to last , i needed — just once in my life — to xxunk everything completely and start again from the xxunk . xxmaj it looked like an xxunk task , and i xxunk to xxunk until i was old enough to be sure that there was nothing to be xxunk from xxunk it off any longer</td>\n",
       "    </tr>\n",
       "    <tr>\n",
       "      <td>1</td>\n",
       "      <td>xxunk in xxunk when they are xxunk , or that they are xxunk , or made of xxunk . xxmaj such people are xxunk , and i would be thought equally xxunk if i xxunk myself on them . xxbos xxmaj hopeful : xxmaj yet right now my eyes are certainly xxunk open when i look at this piece of xxunk ; i xxunk my head and it is n’t</td>\n",
       "    </tr>\n",
       "    <tr>\n",
       "      <td>2</td>\n",
       "      <td>two plus three makes five , and a square has only xxunk sides . xxmaj it seems impossible to suspect that such obvious truths might be false . xxbos xxmaj however , i have for many xxunk been sure that there is an all - powerful xxmaj god who made me to be the sort of xxunk that i am . xxmaj how do i know that he has n’t</td>\n",
       "    </tr>\n",
       "    <tr>\n",
       "      <td>3</td>\n",
       "      <td>things are merely dreams that the xxunk has xxunk as xxunk for my judgment . i shall consider myself as having no hands or eyes , or xxunk , or xxunk or senses , but as having xxunk believed that i had all these things . i shall xxunk xxunk in this xxunk of thought ; and even if i ca xxunk xxunk any truth , i shall at least</td>\n",
       "    </tr>\n",
       "    <tr>\n",
       "      <td>4</td>\n",
       "      <td>— does it follow that i do n’t exist either ? xxbos xxmaj hopeful : xxmaj no it does not follow ; for if i convinced myself of something then i certainly existed . xxbos xxmaj doubtful : xxmaj but there is a supremely powerful and cunning deceiver who deliberately xxunk me all the time ! xxbos xxmaj hopeful : xxmaj even then , if he is deceiving me i</td>\n",
       "    </tr>\n",
       "    <tr>\n",
       "      <td>5</td>\n",
       "      <td>i knew exactly what sort of thing it was . xxmaj if i had xxunk to put my xxunk of the body into words , i would have said this : xxbos xxmaj by a ‘ body ’ i understand whatever has a xxunk shape and position , and can xxunk a · region of · xxunk in such a way as to keep every other body out of it</td>\n",
       "    </tr>\n",
       "    <tr>\n",
       "      <td>6</td>\n",
       "      <td>. xxmaj what kind of a thing ? i have xxunk that : a thinking thing . xxbos xxmaj what else am i ? i will use my imagination to see if i am anything more . i am not that structure of limbs and organs that is called a human body ; nor am i a xxunk xxunk that xxunk the limbs — a xxunk , fire , xxunk</td>\n",
       "    </tr>\n",
       "    <tr>\n",
       "      <td>7</td>\n",
       "      <td>why should it not be ? xxmaj is n’t it one and the same ‘ i ’ who now xxbos affirms this one xxunk , that i exist and think · , xxbos is aware of others that seem to come from the senses ? xxbos xxmaj is n’t all this just as true as the fact that i exist , even if i am in a xxunk xxunk ,</td>\n",
       "    </tr>\n",
       "    <tr>\n",
       "      <td>8</td>\n",
       "      <td>they understand best of all , namely the bodies that we touch and see . i do n’t mean bodies in general — for our general thoughts are xxunk to be confused — but one particular body : this piece of wax , for example . xxmaj it has just been taken from the xxunk ; it still tastes of honey and has the xxunk of the xxunk from which</td>\n",
       "    </tr>\n",
       "    <tr>\n",
       "      <td>9</td>\n",
       "      <td>and changeable . xxmaj also , what does ‘ extended ’ mean ? xxmaj is the wax ’s extension also unknown ? xxmaj it increases if the wax xxunk , and increases again if it xxunk ; the wax can be extended in many more ways ( · that is , with many more shapes · ) than i will ever bring before my imagination . i am xxunk to</td>\n",
       "    </tr>\n",
       "  </tbody>\n",
       "</table>"
      ],
      "text/plain": [
       "<IPython.core.display.HTML object>"
      ]
     },
     "metadata": {},
     "output_type": "display_data"
    }
   ],
   "source": [
    "data_lm.show_batch(rows=10)\n"
   ]
  },
  {
   "cell_type": "code",
   "execution_count": 10,
   "metadata": {},
   "outputs": [
    {
     "data": {
      "text/plain": [
       "['xxunk',\n",
       " 'xxpad',\n",
       " 'xxbos',\n",
       " 'xxeos',\n",
       " 'xxfld',\n",
       " 'xxmaj',\n",
       " 'xxup',\n",
       " 'xxrep',\n",
       " 'xxwrep',\n",
       " ',',\n",
       " 'i',\n",
       " 'the',\n",
       " 'that',\n",
       " '.',\n",
       " 'of']"
      ]
     },
     "execution_count": 10,
     "metadata": {},
     "output_type": "execute_result"
    }
   ],
   "source": [
    "# view the most common dictionary terms\n",
    "data_lm.vocab.itos[:15]\n"
   ]
  },
  {
   "cell_type": "code",
   "execution_count": 11,
   "metadata": {},
   "outputs": [],
   "source": [
    "# Train Language Model\n",
    "# drop_mult is a parameter that controls the % of drop-out used\n",
    "learn = language_model_learner(data_lm, AWD_LSTM, \n",
    "            drop_mult=0.7)\n"
   ]
  },
  {
   "cell_type": "code",
   "execution_count": 12,
   "metadata": {},
   "outputs": [
    {
     "data": {
      "text/html": [
       "\n",
       "    <div>\n",
       "        <style>\n",
       "            /* Turns off some styling */\n",
       "            progress {\n",
       "                /* gets rid of default border in Firefox and Opera. */\n",
       "                border: none;\n",
       "                /* Needs to be in here for Safari polyfill so background images work as expected. */\n",
       "                background-size: auto;\n",
       "            }\n",
       "            .progress-bar-interrupted, .progress-bar-interrupted::-webkit-progress-bar {\n",
       "                background: #F44336;\n",
       "            }\n",
       "        </style>\n",
       "      <progress value='12' class='' max='13' style='width:300px; height:20px; vertical-align: middle;'></progress>\n",
       "      92.31% [12/13 02:09<00:10]\n",
       "    </div>\n",
       "    \n",
       "<table border=\"1\" class=\"dataframe\">\n",
       "  <thead>\n",
       "    <tr style=\"text-align: left;\">\n",
       "      <th>epoch</th>\n",
       "      <th>train_loss</th>\n",
       "      <th>valid_loss</th>\n",
       "      <th>accuracy</th>\n",
       "      <th>time</th>\n",
       "    </tr>\n",
       "  </thead>\n",
       "  <tbody>\n",
       "    <tr>\n",
       "      <td>0</td>\n",
       "      <td>4.299006</td>\n",
       "      <td>#na#</td>\n",
       "      <td>00:10</td>\n",
       "    </tr>\n",
       "    <tr>\n",
       "      <td>1</td>\n",
       "      <td>4.317284</td>\n",
       "      <td>#na#</td>\n",
       "      <td>00:09</td>\n",
       "    </tr>\n",
       "    <tr>\n",
       "      <td>2</td>\n",
       "      <td>4.312144</td>\n",
       "      <td>#na#</td>\n",
       "      <td>00:10</td>\n",
       "    </tr>\n",
       "    <tr>\n",
       "      <td>3</td>\n",
       "      <td>4.323340</td>\n",
       "      <td>#na#</td>\n",
       "      <td>00:11</td>\n",
       "    </tr>\n",
       "    <tr>\n",
       "      <td>4</td>\n",
       "      <td>4.326863</td>\n",
       "      <td>#na#</td>\n",
       "      <td>00:11</td>\n",
       "    </tr>\n",
       "    <tr>\n",
       "      <td>5</td>\n",
       "      <td>4.314606</td>\n",
       "      <td>#na#</td>\n",
       "      <td>00:11</td>\n",
       "    </tr>\n",
       "    <tr>\n",
       "      <td>6</td>\n",
       "      <td>4.289363</td>\n",
       "      <td>#na#</td>\n",
       "      <td>00:10</td>\n",
       "    </tr>\n",
       "    <tr>\n",
       "      <td>7</td>\n",
       "      <td>4.222250</td>\n",
       "      <td>#na#</td>\n",
       "      <td>00:09</td>\n",
       "    </tr>\n",
       "    <tr>\n",
       "      <td>8</td>\n",
       "      <td>4.099059</td>\n",
       "      <td>#na#</td>\n",
       "      <td>00:11</td>\n",
       "    </tr>\n",
       "    <tr>\n",
       "      <td>9</td>\n",
       "      <td>3.939514</td>\n",
       "      <td>#na#</td>\n",
       "      <td>00:12</td>\n",
       "    </tr>\n",
       "    <tr>\n",
       "      <td>10</td>\n",
       "      <td>3.934698</td>\n",
       "      <td>#na#</td>\n",
       "      <td>00:11</td>\n",
       "    </tr>\n",
       "    <tr>\n",
       "      <td>11</td>\n",
       "      <td>5.925913</td>\n",
       "      <td>#na#</td>\n",
       "      <td>00:09</td>\n",
       "    </tr>\n",
       "  </tbody>\n",
       "</table><p>\n",
       "\n",
       "    <div>\n",
       "        <style>\n",
       "            /* Turns off some styling */\n",
       "            progress {\n",
       "                /* gets rid of default border in Firefox and Opera. */\n",
       "                border: none;\n",
       "                /* Needs to be in here for Safari polyfill so background images work as expected. */\n",
       "                background-size: auto;\n",
       "            }\n",
       "            .progress-bar-interrupted, .progress-bar-interrupted::-webkit-progress-bar {\n",
       "                background: #F44336;\n",
       "            }\n",
       "        </style>\n",
       "      <progress value='3' class='' max='8' style='width:300px; height:20px; vertical-align: middle;'></progress>\n",
       "      37.50% [3/8 00:04<00:08 8.5416]\n",
       "    </div>\n",
       "    "
      ],
      "text/plain": [
       "<IPython.core.display.HTML object>"
      ]
     },
     "metadata": {},
     "output_type": "display_data"
    },
    {
     "name": "stdout",
     "output_type": "stream",
     "text": [
      "LR Finder is complete, type {learner_name}.recorder.plot() to see the graph.\n"
     ]
    }
   ],
   "source": [
    "# use learning rate finder to identify a good learning rate to use\n",
    "learn.lr_find()\n"
   ]
  },
  {
   "cell_type": "code",
   "execution_count": 13,
   "metadata": {},
   "outputs": [
    {
     "data": {
      "image/png": "[encoded data removed]",
      "text/plain": [
       "<Figure size 432x288 with 1 Axes>"
      ]
     },
     "metadata": {
      "needs_background": "light"
     },
     "output_type": "display_data"
    }
   ],
   "source": [
    "learn.recorder.plot(skip_end=15)"
   ]
  },
  {
   "cell_type": "code",
   "execution_count": 14,
   "metadata": {},
   "outputs": [
    {
     "data": {
      "text/html": [
       "<table border=\"1\" class=\"dataframe\">\n",
       "  <thead>\n",
       "    <tr style=\"text-align: left;\">\n",
       "      <th>epoch</th>\n",
       "      <th>train_loss</th>\n",
       "      <th>valid_loss</th>\n",
       "      <th>accuracy</th>\n",
       "      <th>time</th>\n",
       "    </tr>\n",
       "  </thead>\n",
       "  <tbody>\n",
       "    <tr>\n",
       "      <td>0</td>\n",
       "      <td>4.251326</td>\n",
       "      <td>4.084511</td>\n",
       "      <td>0.224702</td>\n",
       "      <td>00:12</td>\n",
       "    </tr>\n",
       "    <tr>\n",
       "      <td>1</td>\n",
       "      <td>4.148220</td>\n",
       "      <td>3.809978</td>\n",
       "      <td>0.249702</td>\n",
       "      <td>00:12</td>\n",
       "    </tr>\n",
       "    <tr>\n",
       "      <td>2</td>\n",
       "      <td>3.989538</td>\n",
       "      <td>3.646709</td>\n",
       "      <td>0.265774</td>\n",
       "      <td>00:11</td>\n",
       "    </tr>\n",
       "    <tr>\n",
       "      <td>3</td>\n",
       "      <td>3.829430</td>\n",
       "      <td>3.519116</td>\n",
       "      <td>0.275000</td>\n",
       "      <td>00:11</td>\n",
       "    </tr>\n",
       "    <tr>\n",
       "      <td>4</td>\n",
       "      <td>3.680995</td>\n",
       "      <td>3.490135</td>\n",
       "      <td>0.272024</td>\n",
       "      <td>00:11</td>\n",
       "    </tr>\n",
       "    <tr>\n",
       "      <td>5</td>\n",
       "      <td>3.548779</td>\n",
       "      <td>3.454338</td>\n",
       "      <td>0.280655</td>\n",
       "      <td>00:11</td>\n",
       "    </tr>\n",
       "    <tr>\n",
       "      <td>6</td>\n",
       "      <td>3.431424</td>\n",
       "      <td>3.430956</td>\n",
       "      <td>0.280060</td>\n",
       "      <td>00:13</td>\n",
       "    </tr>\n",
       "    <tr>\n",
       "      <td>7</td>\n",
       "      <td>3.340652</td>\n",
       "      <td>3.425889</td>\n",
       "      <td>0.283929</td>\n",
       "      <td>00:10</td>\n",
       "    </tr>\n",
       "    <tr>\n",
       "      <td>8</td>\n",
       "      <td>3.271631</td>\n",
       "      <td>3.430627</td>\n",
       "      <td>0.280060</td>\n",
       "      <td>00:10</td>\n",
       "    </tr>\n",
       "    <tr>\n",
       "      <td>9</td>\n",
       "      <td>3.212852</td>\n",
       "      <td>3.421905</td>\n",
       "      <td>0.279167</td>\n",
       "      <td>00:10</td>\n",
       "    </tr>\n",
       "  </tbody>\n",
       "</table>"
      ],
      "text/plain": [
       "<IPython.core.display.HTML object>"
      ]
     },
     "metadata": {},
     "output_type": "display_data"
    }
   ],
   "source": [
    "# as a rule of thumb, review the plot above and choose the learning rate \n",
    "# with the steepest slope to fit the model\n",
    "learn.fit_one_cycle(10, 1e-2, moms=(0.8,0.7))\n"
   ]
  },
  {
   "cell_type": "code",
   "execution_count": 42,
   "metadata": {},
   "outputs": [
    {
     "name": "stdout",
     "output_type": "stream",
     "text": [
      "/Users/jobvisser/repos/deep-philosopher\n"
     ]
    }
   ],
   "source": [
    "! pwd"
   ]
  },
  {
   "cell_type": "code",
   "execution_count": 14,
   "metadata": {},
   "outputs": [
    {
     "ename": "NameError",
     "evalue": "name 'learn' is not defined",
     "output_type": "error",
     "traceback": [
      "\u001b[0;31m---------------------------------------------------------------------------\u001b[0m",
      "\u001b[0;31mNameError\u001b[0m                                 Traceback (most recent call last)",
      "\u001b[0;32m<ipython-input-14-722749599f51>\u001b[0m in \u001b[0;36m<module>\u001b[0;34m\u001b[0m\n\u001b[0;32m----> 1\u001b[0;31m \u001b[0mlearn\u001b[0m\u001b[0;34m.\u001b[0m\u001b[0msave\u001b[0m\u001b[0;34m(\u001b[0m\u001b[0;34m'deep_philosopher_head'\u001b[0m\u001b[0;34m)\u001b[0m\u001b[0;34m\u001b[0m\u001b[0;34m\u001b[0m\u001b[0m\n\u001b[0m",
      "\u001b[0;31mNameError\u001b[0m: name 'learn' is not defined"
     ]
    }
   ],
   "source": [
    "learn.save('deep_philosopher_head')\n"
   ]
  },
  {
   "cell_type": "code",
   "execution_count": 16,
   "metadata": {},
   "outputs": [],
   "source": [
    "learn.load('deep_philosopher_head');\n"
   ]
  },
  {
   "cell_type": "code",
   "execution_count": 17,
   "metadata": {},
   "outputs": [],
   "source": [
    "# To complete the fine-tuning, we can then unfeeze and launch \n",
    "# a new training to fine-tune all layers of the model.\n",
    "learn.unfreeze()"
   ]
  },
  {
   "cell_type": "code",
   "execution_count": 18,
   "metadata": {},
   "outputs": [
    {
     "data": {
      "text/html": [
       "<table border=\"1\" class=\"dataframe\">\n",
       "  <thead>\n",
       "    <tr style=\"text-align: left;\">\n",
       "      <th>epoch</th>\n",
       "      <th>train_loss</th>\n",
       "      <th>valid_loss</th>\n",
       "      <th>accuracy</th>\n",
       "      <th>time</th>\n",
       "    </tr>\n",
       "  </thead>\n",
       "  <tbody>\n",
       "    <tr>\n",
       "      <td>0</td>\n",
       "      <td>2.941353</td>\n",
       "      <td>3.444343</td>\n",
       "      <td>0.277381</td>\n",
       "      <td>00:26</td>\n",
       "    </tr>\n",
       "    <tr>\n",
       "      <td>1</td>\n",
       "      <td>2.874441</td>\n",
       "      <td>3.437474</td>\n",
       "      <td>0.280060</td>\n",
       "      <td>00:24</td>\n",
       "    </tr>\n",
       "    <tr>\n",
       "      <td>2</td>\n",
       "      <td>2.759536</td>\n",
       "      <td>3.458321</td>\n",
       "      <td>0.276786</td>\n",
       "      <td>00:25</td>\n",
       "    </tr>\n",
       "    <tr>\n",
       "      <td>3</td>\n",
       "      <td>2.643751</td>\n",
       "      <td>3.491671</td>\n",
       "      <td>0.276786</td>\n",
       "      <td>00:28</td>\n",
       "    </tr>\n",
       "    <tr>\n",
       "      <td>4</td>\n",
       "      <td>2.552804</td>\n",
       "      <td>3.503220</td>\n",
       "      <td>0.275298</td>\n",
       "      <td>00:27</td>\n",
       "    </tr>\n",
       "  </tbody>\n",
       "</table>"
      ],
      "text/plain": [
       "<IPython.core.display.HTML object>"
      ]
     },
     "metadata": {},
     "output_type": "display_data"
    }
   ],
   "source": [
    "learn.fit_one_cycle(5, 1e-3, moms=(0.8,0.7))"
   ]
  },
  {
   "cell_type": "code",
   "execution_count": 19,
   "metadata": {},
   "outputs": [],
   "source": [
    "learn.save('deep_philosopher_fine_tuned')\n",
    "learn.save_encoder('fine_tuned_enc')"
   ]
  },
  {
   "cell_type": "code",
   "execution_count": 20,
   "metadata": {},
   "outputs": [
    {
     "data": {
      "text/plain": [
       "LanguageLearner(data=TextLMDataBunch;\n",
       "\n",
       "Train: LabelList (149 items)\n",
       "x: LMTextList\n",
       "xxbos xxmaj in his xxunk for this work , xxmaj descartes is following a xxunk ( xxunk by xxmaj xxunk ) which uses ‘ first xxunk ’ as a xxunk for xxunk .,xxbos xxmaj some xxunk ago i was xxunk by how many false things i had believed , and by how doubtful was the structure of beliefs that i had based on them . i xxunk that if i wanted to xxunk anything in the xxunk that was xxunk and likely to last , i needed — just once in my life — to xxunk everything completely and start again from the xxunk . xxmaj it looked like an xxunk task , and i xxunk to xxunk until i was old enough to be sure that there was nothing to be xxunk from xxunk it off any longer . i have now xxunk it for so long that i have no xxunk for going on xxunk to do it rather than xxunk to work . xxmaj so today i have set all my xxunk xxunk and xxunk for myself a clear xxunk of free time . i am here quite alone , and at last i will xxunk myself , xxunk and without xxunk back , to xxunk my opinions .,xxbos i can do this without showing that all my beliefs are false , which is xxunk more than i could ever xxunk . xxmaj my reason tells me that as well as xxunk assent from propositions that are obviously xxunk , i should also withhold it from ones that are xxunk completely certain and indubitable . xxmaj so all i need , for the xxunk of xxunk all my opinions , is to find in each of them at least some reason for doubt . i can do this without going through them one by one , which would take xxunk : once the xxunk of a xxunk have been undermined , the rest xxunk of its own xxunk ; so i will go xxunk for the xxunk principles on which all my former beliefs xxunk .,xxbos xxmaj whatever i have xxunk until now as most true has come to me through my senses . xxmaj but xxunk i have found that they have deceived me , and it is xxunk to xxunk completely those who have deceived us even once .,xxbos [ xxmaj the next xxunk xxunk a xxunk of considerations back and xxunk . xxmaj it is set out here as a xxunk between two people , but that is n’t how xxmaj descartes presented it . ]\n",
       "y: LMLabelList\n",
       ",,,,\n",
       "Path: /Users/jobvisser/repos/deep-philosopher;\n",
       "\n",
       "Valid: LabelList (16 items)\n",
       "x: LMTextList\n",
       "xxbos i xxunk that i do n’t have to think about xxmaj god at all ; but whenever i do choose to think of him , xxunk the idea of the first and supreme being out of my mind ’s xxunk , i must attribute all perfections to him , even if i do n’t xxunk to them xxunk xxunk away . xxmaj this xxunk · in my thought · xxunk that , when i later realize that existence is a perfection , i am right to conclude then that the first and supreme being exists . xxmaj similarly , i do n’t ever have to imagine a triangle ; but whenever i do xxunk to consider a figure with xxunk sides and three angles , i must attribute to it properties from which it follows that its three angles equal no more than xxunk xxunk , even if i do n’t xxunk this at the time . xxmaj when on the other hand i examine what xxunk can be xxunk in a xxunk , i am not xxunk to think that this xxunk xxunk all xxunk . xxmaj indeed , i xxunk — while thinking vividly and clearly — even xxunk that all xxunk can be xxunk in a xxunk . xxmaj this kind of false xxunk is xxunk different from the true ideas that are innate in me , of which the first and xxunk is the idea of xxmaj god . xxmaj this idea is n’t a xxunk , a xxunk of my thought , but rather an image of a true and xxunk nature ; and i have xxunk xxunk that this is so . xxunk is the only thing i can think of whose existence necessarily xxunk to its essence . xxup •i ca n’t make sense of there being two or more xxmaj xxunk of this kind ; and after supposing that one xxmaj god exists , i xxunk see that it is xxunk that he has existed from xxunk and will xxunk in existence for xxunk . xxup •i perceive many other attributes of xxmaj god , none of which i can xxunk or xxunk .,xxbos [ xxmaj xxunk ] xxunk xxunk xxunk . xxmaj small · xxunk · xxunk material that has been xxunk , but can be xxunk as though it were part of the xxunk xxunk . xxmaj xxunk xxunk , and also xxunk of xxunk that are not xxunk , are xxunk as xxunk to xxunk the structure of a xxunk or a thought . xxmaj every xxunk - point xxunk . . . . xxunk the xxunk of a xxunk xxunk that seems to present more difficulty than it is xxunk .,xxbos i xxunk xxunk as perfectly certain and evident many things that i xxunk xxunk were doubtful — the earth , sky , xxunk , and everything else that i xxunk in through the senses — but in those cases what i perceived clearly were merely the ideas or thoughts of those things that came into my mind ; and i am still not xxunk that those ideas occur within me . xxmaj but i used also to believe that my ideas came from things outside that xxunk them in all xxunk . xxmaj indeed , i believed this for so long that i xxunk came to think that i perceived it clearly . xxmaj in fact , it was false ; or anyway if it was true it was not xxunk to the xxunk of my perceptions .,xxbos xxmaj it is n’t enough merely to have xxunk this , though ; i must make an xxunk to remember it . xxmaj my old xxunk opinions keep coming back , and xxunk my will they xxunk my belief . xxmaj it is as though they had a right to a place in my belief - xxunk as a xxunk of long xxunk and the xxunk of xxunk . xxmaj these xxunk opinions of mine are indeed xxunk xxunk ; although they are in a sense doubtful , as i have xxunk , it is more reasonable to believe than to deny them . xxmaj but if i go on xxunk them in that light i shall never get out of the habit of xxunk xxunk to them . xxmaj to xxunk that habit , therefore , i had better xxunk right xxunk and xxunk ( for a while ) that these former opinions of mine are xxunk false and xxunk . i shall do this until i have something to xxunk - xxunk the xxunk of old xxunk , and the xxunk xxunk of habit no longer xxunk me from judging correctly . xxmaj however far i go in my xxunk xxunk , no xxunk xxunk will come of it , because my xxunk xxunk n’t affect how i xxunk , but only how i xxunk about xxunk knowledge .,xxbos xxmaj now it is obvious by the natural light that the xxunk cause of something must contain at least as much reality as does the xxunk . xxmaj for where could the xxunk get its reality from if not from the cause ? xxmaj and how could the cause give reality to the xxunk xxunk it first had that reality itself ? xxmaj two things follow from this : that something ca n’t arise from nothing , and that what is more perfect — that is , contains in itself more reality — xxunk arise from what is less perfect . xxmaj and this is xxunk true not only for ‘ xxunk ’ or ‘ xxunk ’ reality ( as xxunk call it ) but also for the representative reality of ideas — that is , the reality that a idea represents . a xxunk , for example , can xxunk to exist only if it is produced by something that contains — either straightforwardly or in some higher form — everything that is to be found in the xxunk ; similarly , heat ca n’t be produced in a xxunk cold object except by something of at least the same order of perfection as heat , and so on . ( · i do n’t say simply ‘ except by something that is xxunk ’ , because that is not xxunk . xxmaj the thing could be caused to be xxunk by something that does n’t itself straightforwardly contain heat — i.e . that is n’t itself xxunk — but contains heat in a higher form , that is , something of a higher order of perfection than heat . xxmaj thus , for example , although xxmaj god is obviously not xxunk xxunk , he can cause something to be xxunk because he contains heat not straightforwardly but in a higher form · . ) xxmaj but it is also true that the idea of heat or of a xxunk can be caused in me only by something that contains at least as much reality as i conceive to be in the heat or in the xxunk . xxmaj for although this cause does not xxunk any of its xxunk or xxunk reality to my idea , it still ca n’t be less real . xxmaj an idea need have no xxunk reality except what it xxunk from my thought , of which it is a xxunk . xxmaj but any idea that has representative reality must xxunk come from a cause that contains at least as much xxunk reality as there is representative reality in the idea . xxmaj for if we suppose that an idea contains something that was not in its cause , it must have xxunk this from nothing ; yet the kind of reality that is xxunk in something ’s being xxunk in the mind by an idea , though it may not be very perfect , certainly is n’t nothing , and so it ca n’t come from nothing .\n",
       "y: LMLabelList\n",
       ",,,,\n",
       "Path: /Users/jobvisser/repos/deep-philosopher;\n",
       "\n",
       "Test: None, model=SequentialRNN(\n",
       "  (0): AWD_LSTM(\n",
       "    (encoder): Embedding(848, 400, padding_idx=1)\n",
       "    (encoder_dp): EmbeddingDropout(\n",
       "      (emb): Embedding(848, 400, padding_idx=1)\n",
       "    )\n",
       "    (rnns): ModuleList(\n",
       "      (0): WeightDropout(\n",
       "        (module): LSTM(400, 1152, batch_first=True)\n",
       "      )\n",
       "      (1): WeightDropout(\n",
       "        (module): LSTM(1152, 1152, batch_first=True)\n",
       "      )\n",
       "      (2): WeightDropout(\n",
       "        (module): LSTM(1152, 400, batch_first=True)\n",
       "      )\n",
       "    )\n",
       "    (input_dp): RNNDropout()\n",
       "    (hidden_dps): ModuleList(\n",
       "      (0): RNNDropout()\n",
       "      (1): RNNDropout()\n",
       "      (2): RNNDropout()\n",
       "    )\n",
       "  )\n",
       "  (1): LinearDecoder(\n",
       "    (decoder): Linear(in_features=400, out_features=848, bias=True)\n",
       "    (output_dp): RNNDropout()\n",
       "  )\n",
       "), opt_func=functools.partial(<class 'torch.optim.adam.Adam'>, betas=(0.9, 0.99)), loss_func=FlattenedLoss of CrossEntropyLoss(), metrics=[<function accuracy at 0x148bad9e0>], true_wd=True, bn_wd=True, wd=0.01, train_bn=True, path=PosixPath('/Users/jobvisser/repos/deep-philosopher'), model_dir='models', callback_fns=[functools.partial(<class 'fastai.basic_train.Recorder'>, add_time=True, silent=False)], callbacks=[RNNTrainer\n",
       "learn: ...\n",
       "alpha: 2.0\n",
       "beta: 1.0], layer_groups=[Sequential(\n",
       "  (0): WeightDropout(\n",
       "    (module): LSTM(400, 1152, batch_first=True)\n",
       "  )\n",
       "  (1): RNNDropout()\n",
       "), Sequential(\n",
       "  (0): WeightDropout(\n",
       "    (module): LSTM(1152, 1152, batch_first=True)\n",
       "  )\n",
       "  (1): RNNDropout()\n",
       "), Sequential(\n",
       "  (0): WeightDropout(\n",
       "    (module): LSTM(1152, 400, batch_first=True)\n",
       "  )\n",
       "  (1): RNNDropout()\n",
       "), Sequential(\n",
       "  (0): Embedding(848, 400, padding_idx=1)\n",
       "  (1): EmbeddingDropout(\n",
       "    (emb): Embedding(848, 400, padding_idx=1)\n",
       "  )\n",
       "  (2): LinearDecoder(\n",
       "    (decoder): Linear(in_features=400, out_features=848, bias=True)\n",
       "    (output_dp): RNNDropout()\n",
       "  )\n",
       ")], add_time=True, silent=False)"
      ]
     },
     "execution_count": 20,
     "metadata": {},
     "output_type": "execute_result"
    }
   ],
   "source": [
    "learn.load('deep_philosopher_fine_tuned')\n"
   ]
  },
  {
   "cell_type": "code",
   "execution_count": 28,
   "metadata": {},
   "outputs": [],
   "source": [
    "# adjust below parameters to test inference (generated texts)\n",
    "\n",
    "TEXT = \"Life will\"\n",
    "N_WORDS = 40\n",
    "N_SENTENCES = 2\n"
   ]
  },
  {
   "cell_type": "code",
   "execution_count": 29,
   "metadata": {},
   "outputs": [
    {
     "name": "stdout",
     "output_type": "stream",
     "text": [
      "Life will be said to be true ; but a certain and obscure perception of it : a judgment may merely be caused when it is set apart from itself \n",
      "Life will n’t have life in my intellect ; it has no memory at all \n"
     ]
    }
   ],
   "source": [
    "print(\"\\n\".join(learn.predict(TEXT, N_WORDS) for _ in range(N_SENTENCES)))\n"
   ]
  },
  {
   "cell_type": "code",
   "execution_count": 31,
   "metadata": {},
   "outputs": [],
   "source": [
    "pred = learn.predict(TEXT, N_WORDS)"
   ]
  },
  {
   "cell_type": "code",
   "execution_count": 40,
   "metadata": {},
   "outputs": [
    {
     "data": {
      "text/plain": [
       "['Life will now go wrong but it should come from things that are dreaming ! xxbos Decision to affirm or deny had come from a faculty of mine , was been made by former Latin Causes of God']"
      ]
     },
     "execution_count": 40,
     "metadata": {},
     "output_type": "execute_result"
    }
   ],
   "source": [
    "pred.split(\"!|,\")"
   ]
  }
 ],
 "metadata": {
  "kernelspec": {
   "display_name": "Python 3.7.6 64-bit ('deep-philosopher-UfGILhcu-py3.7': venv)",
   "language": "python",
   "name": "python37664bitdeepphilosopherufgilhcupy37venv2faa6656c3514cbb867cd1949804e7be"
  },
  "language_info": {
   "codemirror_mode": {
    "name": "ipython",
    "version": 3
   },
   "file_extension": ".py",
   "mimetype": "text/x-python",
   "name": "python",
   "nbconvert_exporter": "python",
   "pygments_lexer": "ipython3",
   "version": "3.7.6"
  }
 },
 "nbformat": 4,
 "nbformat_minor": 4
}
